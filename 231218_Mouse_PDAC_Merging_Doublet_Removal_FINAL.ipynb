{
 "cells": [
  {
   "cell_type": "markdown",
   "metadata": {},
   "source": [
    "### Summary:\n",
    "\n",
    "This notebook contains our standard code for merging the Mouse PDAC samples into one Seurat object and removing doublets using Scrublet. This notebook also contains basic QC metrics. "
   ]
  },
  {
   "cell_type": "code",
   "execution_count": 1,
   "metadata": {
    "scrolled": true
   },
   "outputs": [
    {
     "data": {
      "text/html": [
       "TRUE"
      ],
      "text/latex": [
       "TRUE"
      ],
      "text/markdown": [
       "TRUE"
      ],
      "text/plain": [
       "[1] TRUE"
      ]
     },
     "metadata": {},
     "output_type": "display_data"
    },
    {
     "data": {
      "text/plain": [
       "Module(leidenalg)"
      ]
     },
     "metadata": {},
     "output_type": "display_data"
    }
   ],
   "source": [
    "# Always run this first!!\n",
    "#essential reticulate functions that allow us to use python packages in R\n",
    "#you'll need a conda env with 'reticulate', leidenalg' and 'pandas' installed to do this\n",
    "#then route reticulate to the python installed in that conda env with the below functions\n",
    "#change the path to whichever conda env you installed reticulate in\n",
    "Sys.setenv(RETICULATE_PYTHON=\"/home/yuna/.conda/envs/reticulate/bin/python\")\n",
    "library(reticulate)\n",
    "reticulate::use_python(\"/home/yuna/.conda/envs/reticulate/bin/python\")\n",
    "reticulate::use_condaenv(\"/home/yuna/.conda/envs/reticulate\")\n",
    "reticulate::py_module_available(module='leidenalg') #needs to be TRUE\n",
    "reticulate::import('leidenalg') #good to make sure this doesn't error"
   ]
  },
  {
   "cell_type": "code",
   "execution_count": 2,
   "metadata": {
    "scrolled": true
   },
   "outputs": [],
   "source": [
    "options(warn=-1)\n",
    "suppressMessages(library(hdf5r))\n",
    "suppressMessages(library(Seurat))\n",
    "suppressMessages(library(Signac))\n",
    "suppressMessages(library(EnsDb.Mmusculus.v79))\n",
    "suppressMessages(library(dplyr))\n",
    "suppressMessages(library(ggplot2))\n",
    "suppressMessages(library(Matrix))\n",
    "suppressMessages(library(harmony))\n",
    "suppressMessages(library(data.table))\n",
    "suppressMessages(library(ggpubr))\n",
    "suppressMessages(library(plyr))\n",
    "suppressMessages(library(sparseMatrixStats))\n",
    "suppressMessages(library(stringr))"
   ]
  },
  {
   "cell_type": "markdown",
   "metadata": {},
   "source": [
    "# Read in individually processed data and merge\n",
    "## RNA matrices"
   ]
  },
  {
   "cell_type": "code",
   "execution_count": 77,
   "metadata": {},
   "outputs": [],
   "source": [
    "samples <- c('KA_41_1_2_KA_39_1_2','KA_42_1_2_KA_40_1_2')"
   ]
  },
  {
   "cell_type": "code",
   "execution_count": 4,
   "metadata": {
    "scrolled": true
   },
   "outputs": [],
   "source": [
    "# Read in the RDS files and wipe out the ATAC and SCT components\n",
    "adatas <- list()\n",
    "for (sample in samples){\n",
    "    adata <- readRDS(file = sprintf(\"/nfs/lab/projects/mouse_pdac/processing/pipeline_outputs/%s/final_filtered_genotypes.rds\",sample))\n",
    "    adatas[[sample]] <- adata\n",
    "    DefaultAssay(adatas[[sample]]) <- \"RNA\"\n",
    "    adatas[[sample]][['ATAC']] <- NULL\n",
    "    adatas[[sample]][['SCT']] <- NULL\n",
    "}"
   ]
  },
  {
   "cell_type": "code",
   "execution_count": 5,
   "metadata": {},
   "outputs": [],
   "source": [
    "# Merge RNA objects (make sure you add sample prefix to these or it won't combine with ATAC)\n",
    "adata <- merge(adatas[[samples[[1]]]], y=adatas[samples[2:length(samples)]], add.cell.ids=samples, project='mouse_pdac')\n",
    "adata$library <- sapply(strsplit(rownames(adata[[]]), '_'), '[[', 2)\n",
    "adatas <- NULL"
   ]
  },
  {
   "cell_type": "markdown",
   "metadata": {},
   "source": [
    "## ATAC matrices"
   ]
  },
  {
   "cell_type": "code",
   "execution_count": 9,
   "metadata": {},
   "outputs": [],
   "source": [
    "# Make the merged fragment file (update all filepaths and variables!)\n",
    "system(sprintf('for SAMPLE in %s; do zcat /nfs/lab/projects/mouse_pdac/data/$SAMPLE/outs/atac_fragments.tsv.gz | awk -v SAMPLE=$SAMPLE \\'BEGIN{FS=OFS=\"\\t\"} {print $1,$2,$3,SAMPLE\"_\"$4,$5}\\'; done | sort -k1,1 -k2,2n -S 64G | bgzip -c -@ 16 > /nfs/lab/projects/mouse_pdac/2samples_merged.atac_fragments.tsv.gz', paste0(samples, collapse=' ')))\n",
    "system('tabix -p bed /nfs/lab/projects/mouse_pdac/2samples_merged.atac_fragments.tsv.gz')\n",
    "outdir <- \"/nfs/lab/ylee/mouse_pdac/\"\n",
    "frag.file <- file.path(outdir,'2samples_merged.atac_fragments.tsv.gz')"
   ]
  },
  {
   "cell_type": "code",
   "execution_count": 7,
   "metadata": {},
   "outputs": [],
   "source": [
    "# Read in ATAC data from the lfm matrices (sm workaround method for now)\n",
    "# Load in starting ATAC long format matrices to a list\n",
    "atacs <- list()\n",
    "for (sample in samples) {\n",
    "    wd <- sprintf('/nfs/lab/projects/mouse_pdac/processing/pipeline_outputs/%s/', sample)\n",
    "    atacs[[sample]] <- read.table(file.path(wd, 'atac.long_fmt.filtered_barcode.mtx.gz'), sep='\\t', header=FALSE, stringsAsFactors=FALSE)\n",
    "    atacs[[sample]]$V1 <- as.factor(atacs[[sample]]$V1)\n",
    "    atacs[[sample]]$V2 <- as.factor(paste0(sample, '_', atacs[[sample]]$V2))\n",
    "}"
   ]
  },
  {
   "cell_type": "code",
   "execution_count": 8,
   "metadata": {},
   "outputs": [
    {
     "name": "stdout",
     "output_type": "stream",
     "text": [
      "[1] \"KA_41_1_2_KA_39_1_2: 2024-01-09 11:01:28\"\n",
      "[1] \"KA_42_1_2_KA_40_1_2: 2024-01-09 11:01:51\"\n"
     ]
    }
   ],
   "source": [
    "# Make the set of ALL windows from all samples\n",
    "windows <- c()\n",
    "for (sample in samples) {\n",
    "    print(paste(sample,Sys.time(),sep=': '))\n",
    "    # Make a temp sparse matrix (can't be final bc doesn't have all windows)\n",
    "    temp_sm <- with(atacs[[sample]],sparseMatrix(i=as.numeric(V1), j=as.numeric(V2), x=V3, dimnames=list(levels(V1), levels(V2))))\n",
    "    # Add to the common windows set\n",
    "    windows <- union(windows,row.names(temp_sm))\n",
    "    }\n",
    "rm(temp_sm) # Deleting for memory reasons\n",
    "windows <- sort(windows) "
   ]
  },
  {
   "cell_type": "code",
   "execution_count": 9,
   "metadata": {},
   "outputs": [],
   "source": [
    "#function which takes in a list of long format atac_fragment dfs with \n",
    "#sample names (df), an overall windows file (windows) and then makes these \n",
    "#into sparse matrices and merges them together\n",
    "\n",
    "#modified to take in the hvws set and use those... will still check if \n",
    "#there's any missing windows and add those, so only a few changes!\n",
    "\n",
    "merge_sparse_matrices_hvws <- function(dfs, windows){\n",
    "    samples <- names(dfs)\n",
    "    for (sample in samples){\n",
    "        #get missing windows list for this sample\n",
    "        print(paste(sample,Sys.time(),sep=': '))\n",
    "        df <- dfs[[sample]]\n",
    "        mis_windows <- windows[!windows %in% levels(df$V1)]\n",
    "        \n",
    "        #add in any missing windows as zero counts for one barcode\n",
    "        if (length(mis_windows) > 0){\n",
    "            print('Adding missing windows')\n",
    "            #create a new long format matrix with the missing windows added as 0 counts\n",
    "            filler_bc <- as.character(df$V2[[1]])\n",
    "            print(paste(\"Using filler BC:\",filler_bc,sep=\" \"))\n",
    "            new_rows <- cbind(as.data.frame(mis_windows),\n",
    "                              as.data.frame(rep(filler_bc),length(mis_windows)),\n",
    "                              as.data.frame(rep(0,length(mis_windows))))\n",
    "            colnames(new_rows) <- c(\"V1\",\"V2\",\"V3\")\n",
    "            lfm <- rbind(df,new_rows)\n",
    "        #if there aren't any missing windows, set lfm to df\n",
    "        } else {\n",
    "            print('No windows were missing')\n",
    "            lfm <- df\n",
    "        }\n",
    "        \n",
    "        #cut down lfm to just be the hvws (windows)\n",
    "        lfm_cut <- lfm[lfm$V1 %in% windows,]\n",
    "        \n",
    "        #set the levels of the lfm based on the desired bc order and reorder V1\n",
    "        lfm_cut$V1 <- factor(lfm_cut$V1, levels=windows)\n",
    "        lfm2 <- lfm_cut[order(lfm_cut$V1),]\n",
    "        lfm2$V2 <- as.factor(lfm2$V2)\n",
    "        \n",
    "        if (sample == samples[1]){\n",
    "            #if first sample, will make the overall sparse matrix \n",
    "            overall_sm <- with(lfm2,sparseMatrix(i=as.numeric(V1), j=as.numeric(V2), x=V3, dimnames=list(levels(V1), levels(V2))))\n",
    "            \n",
    "        } else {\n",
    "            #otherwise, convert into a sparse matrix and add to the overall one\n",
    "            sm = with(lfm2,sparseMatrix(i=as.numeric(V1), j=as.numeric(V2), x=V3, dimnames=list(levels(V1), levels(V2))))\n",
    "            overall_sm = cbind(overall_sm, sm) \n",
    "        }\n",
    "    }\n",
    "    return(overall_sm)\n",
    "}"
   ]
  },
  {
   "cell_type": "code",
   "execution_count": 10,
   "metadata": {
    "scrolled": true
   },
   "outputs": [
    {
     "name": "stdout",
     "output_type": "stream",
     "text": [
      "[1] \"KA_41_1_2_KA_39_1_2: 2024-01-09 11:02:07\"\n",
      "[1] \"Adding missing windows\"\n",
      "[1] \"Using filler BC: KA_41_1_2_KA_39_1_2_AACATTGTCAAGGACA-1\"\n",
      "[1] \"KA_42_1_2_KA_40_1_2: 2024-01-09 11:04:47\"\n",
      "[1] \"Adding missing windows\"\n",
      "[1] \"Using filler BC: KA_42_1_2_KA_40_1_2_AAGGCCCTCAAACCTA-1\"\n"
     ]
    }
   ],
   "source": [
    "overall_sm2 <- merge_sparse_matrices_hvws(atacs,windows)"
   ]
  },
  {
   "cell_type": "code",
   "execution_count": 11,
   "metadata": {
    "scrolled": false
   },
   "outputs": [],
   "source": [
    "#check if the windows of overall_sm are sorted\n",
    "sorted_windows2 <- sort(row.names(overall_sm2))"
   ]
  },
  {
   "cell_type": "code",
   "execution_count": 12,
   "metadata": {
    "scrolled": true
   },
   "outputs": [],
   "source": [
    "#continue to make Seurat compatible object\n",
    "atac <- overall_sm2\n",
    "suppressMessages(annotations <- GetGRangesFromEnsDb(ensdb=EnsDb.Mmusculus.v79))\n",
    "seqlevelsStyle(annotations) <- 'UCSC'\n",
    "genome(annotations) <- 'mm10'"
   ]
  },
  {
   "cell_type": "code",
   "execution_count": 13,
   "metadata": {},
   "outputs": [
    {
     "name": "stderr",
     "output_type": "stream",
     "text": [
      "Computing hash\n",
      "\n"
     ]
    }
   ],
   "source": [
    "#make sure this is the correct merged fragment file!!\n",
    "frag.file <- '/nfs/lab/projects/mouse_pdac/temp.tsv.gz'\n",
    "atac_assay <- CreateChromatinAssay(counts=atac, sep=c('-', '-'), genome='mm10', fragments=frag.file, min.cells=10, min.features=-1, annotation=annotations)"
   ]
  },
  {
   "cell_type": "code",
   "execution_count": 14,
   "metadata": {},
   "outputs": [],
   "source": [
    "suppressMessages(adata[['ATAC']] <- atac_assay)"
   ]
  },
  {
   "cell_type": "markdown",
   "metadata": {},
   "source": [
    "## Add in sample metadata from `per_barcode_metrics.csv`"
   ]
  },
  {
   "cell_type": "code",
   "execution_count": 15,
   "metadata": {
    "scrolled": false
   },
   "outputs": [],
   "source": [
    "# add qc metrics from 10x\n",
    "qcs <- list()\n",
    "for (sample in samples) {\n",
    "    wd <- sprintf('/nfs/lab/projects/mouse_pdac/data/%s/outs', sample)\n",
    "    qc <- read.table(file.path(wd, 'per_barcode_metrics.csv'), sep=',', header=TRUE, stringsAsFactors=1)\n",
    "    qc <- qc[qc$is_cell==1,]\n",
    "    qc$gex_barcode <- paste0(sample, '_', qc$gex_barcode)\n",
    "    qcs[[sample]] <- qc\n",
    "}\n",
    "qc <- as.data.frame(rbindlist(qcs))\n",
    "rownames(qc) <- qc$gex_barcode\n",
    "qc <- qc[Cells(adata), 6:length(colnames(qc))]\n",
    "adata <- AddMetaData(adata, qc)\n",
    "qc <- qcs <- NULL"
   ]
  },
  {
   "cell_type": "markdown",
   "metadata": {},
   "source": [
    "# Perform analyses and clustering"
   ]
  },
  {
   "cell_type": "code",
   "execution_count": 16,
   "metadata": {},
   "outputs": [
    {
     "name": "stderr",
     "output_type": "stream",
     "text": [
      "PC_ 1 \n",
      "Positive:  Arhgap15, Bank1, Dock2, Aff3, Ripor2, Inpp4b, Bach2, Ptprc, Ccnd3, Pax5 \n",
      "\t   Btla, Skap1, Dock10, Ikzf1, Elmo1, Prkcb, Ikzf3, Satb1, Papss2, Gm2682 \n",
      "\t   March1, Dpyd, Mrc1, Grap2, Wdfy4, Sis, Ptpn22, Immp2l, Mgam, Kcnq5 \n",
      "Negative:  Slit3, Col1a2, Col3a1, Col5a2, Pdzrn3, Kcnma1, Prickle1, Kif26b, Bnc2, Epha3 \n",
      "\t   Tnc, Ror1, Sox5, Lhfp, Fbn1, Cacna1c, Col5a1, Col1a1, Cald1, Brinp3 \n",
      "\t   Rbms3, Nhs, Cdh11, Tenm3, Magi2, Prkg1, Meg3, Mast4, Gpc6, C1qtnf7 \n",
      "PC_ 2 \n",
      "Positive:  Arhgap15, Bank1, Ebf1, Dock2, Aff3, Ripor2, Inpp4b, Bach2, Ptprc, Zeb2 \n",
      "\t   Ccnd3, Dock10, Skap1, St6galnac3, Pax5, Btla, Plxdc2, Ikzf1, Mrc1, Prkcb \n",
      "\t   Kcnq5, Slc8a1, Satb1, Mef2c, March1, Fli1, Ikzf3, Gm2682, Wdfy4, Grap2 \n",
      "Negative:  Dpyd, Papss2, Sis, Mgam, Slc13a1, Abcc2, Clec2h, Mecom, Pcsk5, Nckap5 \n",
      "\t   Tmprss15, Malrd1, Slc6a20a, Sult6b2, Cftr, Dmbt1, Magi1, Agmo, Mme, Apob \n",
      "\t   Enpp3, Slc5a1, Hnf4g, Cyp3a13, Adh6a, Muc13, Cobl, Plac8, Shroom3, Onecut2 \n",
      "PC_ 3 \n",
      "Positive:  Dpyd, Papss2, Sis, Pcsk5, Mgam, Slc13a1, Abcc2, Clec2h, Nckap5, Tmprss15 \n",
      "\t   Malrd1, Slc6a20a, Sult6b2, Mme, Arhgap15, Enpp3, Slit3, Slc5a1, Apob, Adh6a \n",
      "\t   Ebf1, Col1a2, 2010106E10Rik, Bank1, Cyp3a13, Pde3a, Gda, Col3a1, Ace2, Clec2e \n",
      "Negative:  Dmbt1, Magi1, Mecom, Onecut2, Wdr72, Ptprt, Cadm1, Tc2n, Prom1, Alcam \n",
      "\t   Pdgfd, Clu, Cftr, Glis3, Pkhd1, Chsy3, Fstl4, Sorbs2, Ptprk, Muc6 \n",
      "\t   Shisa6, Tmem45a, Cdh13, Chrm3, Stox2, Erbb4, mt-Atp6, Naaladl2, Mmp7, Etl4 \n",
      "PC_ 4 \n",
      "Positive:  F13a1, Plxdc2, Zeb2, Mrc1, Chil3, Lrmda, Cacna1d, Slc7a2, Fn1, Arg1 \n",
      "\t   Msr1, Mitf, Pid1, Slc8a1, Saa3, Tbxas1, Cfh, Dab2, Apoe, Kcnk13 \n",
      "\t   Thbs1, Gab2, Mertk, Tfec, Adgre1, Gda, Lilrb4a, Gm13986, Itgam, Trf \n",
      "Negative:  Bank1, Ebf1, Aff3, Arhgap15, Inpp4b, Bach2, Ripor2, Pax5, Btla, Skap1 \n",
      "\t   Kcnq5, Satb1, Gm2682, Ikzf3, St6galnac3, Bcl2, Ccnd3, Ighd, Tmem163, Foxp1 \n",
      "\t   Lef1, Ets1, Grap2, Ptpn22, Ighm, Scml4, Themis, Prkcq, Gm43388, Ralgps2 \n",
      "PC_ 5 \n",
      "Positive:  Dmbt1, Slit3, Col1a2, Kcnma1, Col3a1, Epha3, Cftr, Pdzrn3, Rbms3, Onecut2 \n",
      "\t   Wdr72, Prickle1, Ror1, Ptprt, Col5a2, Kif26b, Col5a1, Brinp3, Naaladl2, Col1a1 \n",
      "\t   Muc6, Bnc2, Meg3, Prom1, Alcam, Gli2, Lama1, Cacna1c, Fstl4, Sox5 \n",
      "Negative:  Ldb2, Prex2, Cyyr1, Galnt18, Ptprb, Zfp521, Emcn, Flt1, Adgrl4, Egfl7 \n",
      "\t   Tacr1, Calcrl, Dysf, Ptprg, Shank3, Ptprm, Kdr, Fbxl7, Tek, Pcdh17 \n",
      "\t   Hecw2, Igfbp7, Rapgef4, Cdh13, Slco2a1, Sema6a, Zfp423, D5Ertd615e, Dnm3, Col4a2 \n",
      "\n",
      "Transposing data matrix\n",
      "\n",
      "Harmony 1/10\n",
      "\n",
      "Harmony 2/10\n",
      "\n",
      "Harmony 3/10\n",
      "\n",
      "Harmony 4/10\n",
      "\n",
      "Harmony 5/10\n",
      "\n",
      "Harmony converged after 5 iterations\n",
      "\n",
      "12:10:21 UMAP embedding parameters a = 0.9922 b = 1.112\n",
      "\n",
      "12:10:21 Read 11144 rows and found 50 numeric columns\n",
      "\n",
      "12:10:21 Using Annoy for neighbor search, n_neighbors = 30\n",
      "\n",
      "12:10:21 Building Annoy index with metric = cosine, n_trees = 50\n",
      "\n",
      "0%   10   20   30   40   50   60   70   80   90   100%\n",
      "\n",
      "[----|----|----|----|----|----|----|----|----|----|\n",
      "\n",
      "*\n",
      "*\n",
      "*\n",
      "*\n",
      "*\n",
      "*\n",
      "*\n",
      "*\n",
      "*\n",
      "*\n",
      "*\n",
      "*\n",
      "*\n",
      "*\n",
      "*\n",
      "*\n",
      "*\n",
      "*\n",
      "*\n",
      "*\n",
      "*\n",
      "*\n",
      "*\n",
      "*\n",
      "*\n",
      "*\n",
      "*\n",
      "*\n",
      "*\n",
      "*\n",
      "*\n",
      "*\n",
      "*\n",
      "*\n",
      "*\n",
      "*\n",
      "*\n",
      "*\n",
      "*\n",
      "*\n",
      "*\n",
      "*\n",
      "*\n",
      "*\n",
      "*\n",
      "*\n",
      "*\n",
      "*\n",
      "*\n",
      "*\n",
      "|\n",
      "\n",
      "12:10:23 Writing NN index file to temp file /nfs/lab/tmp/RtmpFm4njd/file39e34169b7107c\n",
      "\n",
      "12:10:24 Searching Annoy index using 1 thread, search_k = 3000\n",
      "\n",
      "12:10:29 Annoy recall = 100%\n",
      "\n",
      "12:10:32 Commencing smooth kNN distance calibration using 1 thread\n",
      " with target n_neighbors = 30\n",
      "\n",
      "12:10:36 Initializing from normalized Laplacian + noise (using irlba)\n",
      "\n",
      "12:10:41 Commencing optimization for 200 epochs, with 483274 positive edges\n",
      "\n",
      "12:10:48 Optimization finished\n",
      "\n",
      "Performing TF-IDF normalization\n",
      "\n",
      "Running SVD\n",
      "\n",
      "Scaling cell embeddings\n",
      "\n",
      "Transposing data matrix\n",
      "\n",
      "Harmony 1/10\n",
      "\n",
      "Harmony 2/10\n",
      "\n",
      "Harmony 3/10\n",
      "\n",
      "Harmony 4/10\n",
      "\n",
      "Harmony 5/10\n",
      "\n",
      "Harmony 6/10\n",
      "\n",
      "Harmony 7/10\n",
      "\n",
      "Harmony 8/10\n",
      "\n",
      "Harmony 9/10\n",
      "\n",
      "Harmony 10/10\n",
      "\n",
      "12:23:49 UMAP embedding parameters a = 0.9922 b = 1.112\n",
      "\n",
      "12:23:49 Read 11144 rows and found 49 numeric columns\n",
      "\n",
      "12:23:49 Using Annoy for neighbor search, n_neighbors = 30\n",
      "\n",
      "12:23:49 Building Annoy index with metric = cosine, n_trees = 50\n",
      "\n",
      "0%   10   20   30   40   50   60   70   80   90   100%\n",
      "\n",
      "[----|----|----|----|----|----|----|----|----|----|\n",
      "\n",
      "*\n",
      "*\n",
      "*\n",
      "*\n",
      "*\n",
      "*\n",
      "*\n",
      "*\n",
      "*\n",
      "*\n",
      "*\n",
      "*\n",
      "*\n",
      "*\n",
      "*\n",
      "*\n",
      "*\n",
      "*\n",
      "*\n",
      "*\n",
      "*\n",
      "*\n",
      "*\n",
      "*\n",
      "*\n",
      "*\n",
      "*\n",
      "*\n",
      "*\n",
      "*\n",
      "*\n",
      "*\n",
      "*\n",
      "*\n",
      "*\n",
      "*\n",
      "*\n",
      "*\n",
      "*\n",
      "*\n",
      "*\n",
      "*\n",
      "*\n",
      "*\n",
      "*\n",
      "*\n",
      "*\n",
      "*\n",
      "*\n",
      "*\n",
      "|\n",
      "\n",
      "12:23:56 Writing NN index file to temp file /nfs/lab/tmp/RtmpFm4njd/file39e3417cf26aec\n",
      "\n",
      "12:23:56 Searching Annoy index using 1 thread, search_k = 3000\n",
      "\n",
      "12:24:07 Annoy recall = 100%\n",
      "\n",
      "12:24:11 Commencing smooth kNN distance calibration using 1 thread\n",
      " with target n_neighbors = 30\n",
      "\n",
      "12:24:18 Found 3 connected components, \n",
      "falling back to 'spca' initialization with init_sdev = 1\n",
      "\n",
      "12:24:18 Using 'irlba' for PCA\n",
      "\n",
      "12:24:19 PCA: 2 components explained 26.17% variance\n",
      "\n",
      "12:24:19 Scaling init to sdev = 1\n",
      "\n",
      "12:24:19 Commencing optimization for 200 epochs, with 527442 positive edges\n",
      "\n",
      "12:24:37 Optimization finished\n",
      "\n"
     ]
    }
   ],
   "source": [
    "# RNA analysis\n",
    "DefaultAssay(adata) <- 'RNA'\n",
    "suppressWarnings(adata <- SCTransform(adata, verbose=FALSE))\n",
    "adata <- RunPCA(adata)\n",
    "adata <- RunHarmony(adata, group.by.vars='library', assay.use='SCT', reduction.save='harmony.rna')\n",
    "adata <- RunUMAP(adata, dims=1:50, reduction='harmony.rna', reduction.name='umap.rna', reduction.key='rnaUMAP_')\n",
    "\n",
    "# ATAC analysis\n",
    "# We exclude the first dimension as this is typically correlated with sequencing depth\n",
    "DefaultAssay(adata) <- 'ATAC'\n",
    "adata <- RunTFIDF(adata)\n",
    "adata <- FindTopFeatures(adata, min.cutoff='q0', verbose=FALSE)\n",
    "adata <- RunSVD(adata)\n",
    "hm_atac <- HarmonyMatrix(Embeddings(adata, reduction='lsi'), adata$library, do_pca=FALSE)\n",
    "adata[['harmony.atac']] <- CreateDimReducObject(embeddings=hm_atac, key='atac_', assay='ATAC')\n",
    "adata <- RunUMAP(adata, dims=2:50, reduction='harmony.atac', reduction.name='umap.atac', reduction.key='atacUMAP_')"
   ]
  },
  {
   "cell_type": "code",
   "execution_count": 17,
   "metadata": {
    "scrolled": true
   },
   "outputs": [
    {
     "name": "stderr",
     "output_type": "stream",
     "text": [
      "Calculating cell-specific modality weights\n",
      "\n",
      "Finding 20 nearest neighbors for each modality.\n",
      "\n",
      "Calculating kernel bandwidths\n",
      "\n",
      "Finding multimodal neighbors\n",
      "\n",
      "Constructing multimodal KNN graph\n",
      "\n",
      "Constructing multimodal SNN graph\n",
      "\n",
      "12:26:03 UMAP embedding parameters a = 0.9922 b = 1.112\n",
      "\n",
      "12:26:07 Commencing smooth kNN distance calibration using 1 thread\n",
      " with target n_neighbors = 20\n",
      "\n",
      "12:26:13 Initializing from normalized Laplacian + noise (using irlba)\n",
      "\n",
      "12:26:37 Commencing optimization for 200 epochs, with 365442 positive edges\n",
      "\n",
      "12:26:56 Optimization finished\n",
      "\n"
     ]
    }
   ],
   "source": [
    "# Combining Modalities\n",
    "adata <- FindMultiModalNeighbors(adata, reduction.list=list('harmony.rna', 'harmony.atac'), dims.list=list(1:50, 2:50))\n",
    "adata <- RunUMAP(adata, nn.name='weighted.nn', reduction.name='umap.wnn', reduction.key='wnnUMAP_')\n",
    "adata <- FindClusters(adata, graph.name='wsnn', algorithm=4,  resolution = 0.25, verbose=FALSE, method = 'igraph')\n",
    "\n",
    "adata$log_nCount_ATAC=log(adata$nCount_ATAC)\n",
    "adata$log_nCount_SCT=log(adata$nCount_SCT)\n",
    "adata$log_nFeature_ATAC=log(adata$nFeature_ATAC)\n",
    "adata$log_nFeature_SCT=log(adata$nFeature_SCT)"
   ]
  },
  {
   "cell_type": "markdown",
   "metadata": {},
   "source": [
    "## Visualize clustering"
   ]
  },
  {
   "cell_type": "code",
   "execution_count": 81,
   "metadata": {
    "scrolled": true
   },
   "outputs": [],
   "source": [
    "# Prints out the UMAP for intermediate clustering step, categorized by seurat clusters\n",
    "options(repr.plot.width=18, repr.plot.height=6)\n",
    "p1 <- DimPlot(adata, reduction='umap.rna', group.by='seurat_clusters', label=TRUE, label.size=6, repel=TRUE) + ggtitle('RNA')\n",
    "p1 <- p1 + xlab('UMAP 1') + ylab('UMAP 2') + ggtitle('RNA only')\n",
    "p2 <- DimPlot(adata, reduction='umap.atac', group.by='seurat_clusters', label=TRUE, label.size=6, repel=TRUE) + ggtitle('ATAC')\n",
    "p2 <- p2 + xlab('UMAP 1') + ylab('UMAP 2') + ggtitle('ATAC only')\n",
    "p3 <- DimPlot(adata, reduction='umap.wnn', group.by='seurat_clusters', label=TRUE, label.size=6, repel=TRUE) + ggtitle('WNN')\n",
    "p3 <- p3 + xlab('UMAP 1') + ylab('UMAP 2') + ggtitle('Combined')\n",
    "# p1 + p2 + p3 & NoLegend() & theme(plot.title=element_text(hjust=0.5))"
   ]
  },
  {
   "cell_type": "markdown",
   "metadata": {},
   "source": [
    "# Visualize Scrublet "
   ]
  },
  {
   "cell_type": "code",
   "execution_count": 78,
   "metadata": {
    "scrolled": false
   },
   "outputs": [],
   "source": [
    "# Read in the first set of Scrublet doublets\n",
    "scrub1 <- read.table(\"/nfs/lab/projects/mouse_pdac/processing/pipeline_outputs/KA_41_1_2_KA_39_1_2/matrix_market/scrublet_predicted_doublets_cutoff0.25.txt\")\n",
    "scrub41_doublets_set = paste('KA_41_1_2_KA_39_1_2', scrub1[scrub1$V2=='True',1], sep = \"_\")\n",
    "\n",
    "# Create vector of assignments with BC names\n",
    "cells <- Cells(adata)\n",
    "scrublet.raw_combined = rep('singlet', length(cells))\n",
    "names(scrublet.raw_combined) <- cells\n",
    "scrublet.raw_combined[scrub41_doublets_set] <- 'doublet'\n",
    "\n",
    "# Add metadata and visualize on the combined UMAP\n",
    "adata <- AddMetaData(adata, scrublet.raw_combined, col.name='scrublet41_0.25.raw_combined')\n",
    "\n",
    "# # Visualize Scrublet multiplets on the combined UMAP -- uncomment out to plot\n",
    "# options(repr.plot.width=10, repr.plot.height=10)\n",
    "# DimPlot(adata, reduction='umap.wnn', group.by = \"scrublet41_0.25.raw_combined\", pt.size = 1, raster=FALSE,\n",
    "#         cols = c(\"singlet\" = \"grey\", \"doublet\" = \"blue\"), \n",
    "#         order = c(\"doublet\", \"singlet\"))"
   ]
  },
  {
   "cell_type": "code",
   "execution_count": 79,
   "metadata": {
    "scrolled": false
   },
   "outputs": [],
   "source": [
    "# Read in a the first set of Scrublet doublets\n",
    "scrub1 <- read.table(\"/nfs/lab/projects/mouse_pdac/processing/pipeline_outputs/KA_42_1_2_KA_40_1_2/matrix_market/scrublet_predicted_doublets_cutoff0.25.txt\")\n",
    "scrub42_doublets_set = paste('KA_42_1_2_KA_40_1_2', scrub1[scrub1$V2=='True',1], sep = \"_\")\n",
    "\n",
    "# Create vector of assignments with BC names\n",
    "cells <- Cells(adata)\n",
    "scrublet.raw_combined = rep('singlet', length(cells))\n",
    "names(scrublet.raw_combined) <- cells\n",
    "scrublet.raw_combined[scrub42_doublets_set] <- 'doublet'\n",
    "\n",
    "# Add metadata and visualize on the combined UMAP\n",
    "adata <- AddMetaData(adata, scrublet.raw_combined, col.name='scrublet42_0.25.raw_combined')\n",
    "\n",
    "# # Visualize Scrublet doublets on the combined UMAP -- uncomment out to plot\n",
    "# options(repr.plot.width=10, repr.plot.height=10)\n",
    "# DimPlot(adata, reduction='umap.wnn', group.by = \"scrublet42_0.25.raw_combined\", pt.size = 1, raster=FALSE,\n",
    "#         cols = c(\"singlet\" = \"grey\", \"doublet\" = \"blue\"), \n",
    "#         order = c(\"doublet\", \"singlet\"))"
   ]
  },
  {
   "cell_type": "code",
   "execution_count": 25,
   "metadata": {},
   "outputs": [],
   "source": [
    "# Concatenate the two default and two set doublet lists\n",
    "scrub_set <- c(scrub41_doublets_set,scrub42_doublets_set)"
   ]
  },
  {
   "cell_type": "code",
   "execution_count": 26,
   "metadata": {},
   "outputs": [],
   "source": [
    "cells <- Cells(adata)\n",
    "scrublet.raw_combined_set = rep('singlet', length(cells))\n",
    "names(scrublet.raw_combined_set) <- cells\n",
    "scrublet.raw_combined_set[scrub_set] <- 'doublet'"
   ]
  },
  {
   "cell_type": "code",
   "execution_count": 27,
   "metadata": {},
   "outputs": [],
   "source": [
    "# Add in the conatenated lists to metadata\n",
    "adata <- AddMetaData(adata, scrublet.raw_combined_set, col.name='scrublet_set')"
   ]
  },
  {
   "cell_type": "code",
   "execution_count": 80,
   "metadata": {
    "scrolled": false
   },
   "outputs": [],
   "source": [
    "# # Visualize concatenated Scrublet doublets on the combined UMAP -- uncomment out to plot\n",
    "# options(repr.plot.width=10, repr.plot.height=10)\n",
    "# DimPlot(adata, reduction='umap.wnn', group.by = \"scrublet_set\", pt.size = 1, raster=FALSE,\n",
    "#         cols = c(\"singlet\" = \"grey\", \"doublet\" = \"blue\"), \n",
    "#         order = c(\"doublet\", \"singlet\"))"
   ]
  },
  {
   "cell_type": "markdown",
   "metadata": {},
   "source": [
    "# Doublet Removal: Subsetting out adata for Scrublet set doublets"
   ]
  },
  {
   "cell_type": "code",
   "execution_count": 29,
   "metadata": {},
   "outputs": [],
   "source": [
    "adata_sub <- subset(adata, subset = scrublet_set == 'singlet')"
   ]
  },
  {
   "cell_type": "markdown",
   "metadata": {},
   "source": [
    "## Perform analyses and clustering"
   ]
  },
  {
   "cell_type": "code",
   "execution_count": 30,
   "metadata": {
    "scrolled": true
   },
   "outputs": [
    {
     "name": "stderr",
     "output_type": "stream",
     "text": [
      "PC_ 1 \n",
      "Positive:  Slit3, Col1a2, Col3a1, Col5a2, Pdzrn3, Kcnma1, Prickle1, Kif26b, Bnc2, Epha3 \n",
      "\t   Ror1, Sox5, Tnc, Lhfp, Rbms3, Fbn1, Cacna1c, Col5a1, Col1a1, Cald1 \n",
      "\t   Tshz2, Mast4, Tenm3, Nhs, Brinp3, Cdh11, Meg3, Prkg1, Gpc6, Magi2 \n",
      "Negative:  Arhgap15, Bank1, Dock2, Aff3, Ripor2, Inpp4b, Bach2, Ptprc, Dock10, Pax5 \n",
      "\t   Ccnd3, Btla, Skap1, Ikzf1, Prkcb, Ikzf3, March1, Mrc1, Satb1, Elmo1 \n",
      "\t   Gm2682, Wdfy4, Grap2, Kcnq5, Ptpn22, Ighd, Ebf1, Itga4, Lyn, Ankrd44 \n",
      "PC_ 2 \n",
      "Positive:  Arhgap15, Ebf1, Bank1, Dock2, Aff3, Slit3, Zeb2, Ripor2, Inpp4b, Bach2 \n",
      "\t   Plxdc2, Col1a2, Ptprc, Dock10, Slc8a1, Col3a1, Ccnd3, Col5a2, St6galnac3, Mrc1 \n",
      "\t   Sox5, Pax5, Btla, Ikzf1, Epha3, Skap1, Prickle1, Prkcb, Bnc2, Arhgap24 \n",
      "Negative:  Dpyd, Papss2, Sis, Mgam, Slc13a1, Abcc2, Mecom, Clec2h, Pcsk5, Cftr \n",
      "\t   Nckap5, Dmbt1, Malrd1, Tmprss15, Slc6a20a, Agmo, Magi1, Sult6b2, Hnf4g, Apob \n",
      "\t   Mme, Slc5a1, Enpp3, Shroom3, Cyp3a13, Onecut2, Cobl, Muc13, Adh6a, Plac8 \n",
      "PC_ 3 \n",
      "Positive:  Dmbt1, Magi1, Mecom, Onecut2, Wdr72, Ptprt, Cadm1, Tc2n, Prom1, Pdgfd \n",
      "\t   Clu, Alcam, Glis3, Pkhd1, Cftr, Chsy3, Fstl4, Sorbs2, Tmem45a, Shisa6 \n",
      "\t   Muc6, Chrm3, Stox2, Cdh13, Ptprk, Erbb4, Naaladl2, Samd12, Mmp7, Efna5 \n",
      "Negative:  Dpyd, Papss2, Pcsk5, Sis, Mgam, Slc13a1, Abcc2, Clec2h, Nckap5, Tmprss15 \n",
      "\t   Malrd1, Slc6a20a, Sult6b2, Mme, Enpp3, Slit3, Apob, Slc5a1, Adh6a, Col1a2 \n",
      "\t   2010106E10Rik, Gda, Pde3a, Agmo, Cyp3a13, Col3a1, Plac8, Ace2, Clec2e, Muc13 \n",
      "PC_ 4 \n",
      "Positive:  F13a1, Plxdc2, Zeb2, Mrc1, Chil3, Lrmda, Cacna1d, Fn1, Slc7a2, Arg1 \n",
      "\t   Msr1, Pid1, Slc8a1, Mitf, Saa3, Tbxas1, Cfh, Dab2, Mertk, Kcnk13 \n",
      "\t   Apoe, Thbs1, Gab2, Adgre1, Tfec, Gda, Lilrb4a, Rbpj, Frmd4b, Itgam \n",
      "Negative:  Ebf1, Bank1, Aff3, Arhgap15, Inpp4b, Bach2, Ripor2, Pax5, Btla, Skap1 \n",
      "\t   Kcnq5, Satb1, St6galnac3, Ikzf3, Gm2682, Bcl2, Ighd, Ccnd3, Tmem163, Foxp1 \n",
      "\t   Ets1, Lef1, Grap2, Ptpn22, Ighm, Scml4, Gm43388, Ralgps2, Themis, Prkcq \n",
      "PC_ 5 \n",
      "Positive:  Ldb2, Prex2, Cyyr1, Galnt18, Zfp521, Ptprb, Emcn, Flt1, Adgrl4, Egfl7 \n",
      "\t   Ptprm, Ptprg, Dysf, Tacr1, Calcrl, Shank3, Kdr, Fbxl7, Tek, Pcdh17 \n",
      "\t   Cdh13, Igfbp7, Sema6a, Hecw2, Rapgef4, Slco2a1, Zfp423, D5Ertd615e, Col4a2, Dnm3 \n",
      "Negative:  Dmbt1, Slit3, Col1a2, Kcnma1, Col3a1, Epha3, Pdzrn3, Cftr, Rbms3, Wdr72 \n",
      "\t   Prickle1, Ror1, Ptprt, Col5a2, Onecut2, Kif26b, Col5a1, Brinp3, Naaladl2, Bnc2 \n",
      "\t   Col1a1, Prom1, Meg3, Sox5, Muc6, Gli2, Lama1, Fstl4, Cacna1c, Gpc6 \n",
      "\n",
      "Transposing data matrix\n",
      "\n",
      "Harmony 1/10\n",
      "\n",
      "Harmony 2/10\n",
      "\n",
      "Harmony 3/10\n",
      "\n",
      "Harmony converged after 3 iterations\n",
      "\n",
      "14:46:47 UMAP embedding parameters a = 0.9922 b = 1.112\n",
      "\n",
      "14:46:47 Read 10909 rows and found 50 numeric columns\n",
      "\n",
      "14:46:47 Using Annoy for neighbor search, n_neighbors = 30\n",
      "\n",
      "14:46:47 Building Annoy index with metric = cosine, n_trees = 50\n",
      "\n",
      "0%   10   20   30   40   50   60   70   80   90   100%\n",
      "\n",
      "[----|----|----|----|----|----|----|----|----|----|\n",
      "\n",
      "*\n",
      "*\n",
      "*\n",
      "*\n",
      "*\n",
      "*\n",
      "*\n",
      "*\n",
      "*\n",
      "*\n",
      "*\n",
      "*\n",
      "*\n",
      "*\n",
      "*\n",
      "*\n",
      "*\n",
      "*\n",
      "*\n",
      "*\n",
      "*\n",
      "*\n",
      "*\n",
      "*\n",
      "*\n",
      "*\n",
      "*\n",
      "*\n",
      "*\n",
      "*\n",
      "*\n",
      "*\n",
      "*\n",
      "*\n",
      "*\n",
      "*\n",
      "*\n",
      "*\n",
      "*\n",
      "*\n",
      "*\n",
      "*\n",
      "*\n",
      "*\n",
      "*\n",
      "*\n",
      "*\n",
      "*\n",
      "*\n",
      "*\n",
      "|\n",
      "\n",
      "14:46:49 Writing NN index file to temp file /nfs/lab/tmp/RtmpFm4njd/file39e341609332cd\n",
      "\n",
      "14:46:49 Searching Annoy index using 1 thread, search_k = 3000\n",
      "\n",
      "14:46:55 Annoy recall = 100%\n",
      "\n",
      "14:46:59 Commencing smooth kNN distance calibration using 1 thread\n",
      " with target n_neighbors = 30\n",
      "\n",
      "14:47:03 Initializing from normalized Laplacian + noise (using irlba)\n",
      "\n",
      "14:47:15 Commencing optimization for 200 epochs, with 470338 positive edges\n",
      "\n",
      "14:47:26 Optimization finished\n",
      "\n",
      "Performing TF-IDF normalization\n",
      "\n",
      "Running SVD\n",
      "\n",
      "Scaling cell embeddings\n",
      "\n",
      "Transposing data matrix\n",
      "\n",
      "Harmony 1/10\n",
      "\n",
      "Harmony 2/10\n",
      "\n",
      "Harmony 3/10\n",
      "\n",
      "Harmony 4/10\n",
      "\n",
      "Harmony 5/10\n",
      "\n",
      "Harmony 6/10\n",
      "\n",
      "Harmony 7/10\n",
      "\n",
      "Harmony 8/10\n",
      "\n",
      "Harmony 9/10\n",
      "\n",
      "Harmony 10/10\n",
      "\n",
      "14:58:18 UMAP embedding parameters a = 0.9922 b = 1.112\n",
      "\n",
      "14:58:18 Read 10909 rows and found 49 numeric columns\n",
      "\n",
      "14:58:18 Using Annoy for neighbor search, n_neighbors = 30\n",
      "\n",
      "14:58:18 Building Annoy index with metric = cosine, n_trees = 50\n",
      "\n",
      "0%   10   20   30   40   50   60   70   80   90   100%\n",
      "\n",
      "[----|----|----|----|----|----|----|----|----|----|\n",
      "\n",
      "*\n",
      "*\n",
      "*\n",
      "*\n",
      "*\n",
      "*\n",
      "*\n",
      "*\n",
      "*\n",
      "*\n",
      "*\n",
      "*\n",
      "*\n",
      "*\n",
      "*\n",
      "*\n",
      "*\n",
      "*\n",
      "*\n",
      "*\n",
      "*\n",
      "*\n",
      "*\n",
      "*\n",
      "*\n",
      "*\n",
      "*\n",
      "*\n",
      "*\n",
      "*\n",
      "*\n",
      "*\n",
      "*\n",
      "*\n",
      "*\n",
      "*\n",
      "*\n",
      "*\n",
      "*\n",
      "*\n",
      "*\n",
      "*\n",
      "*\n",
      "*\n",
      "*\n",
      "*\n",
      "*\n",
      "*\n",
      "*\n",
      "*\n",
      "|\n",
      "\n",
      "14:58:22 Writing NN index file to temp file /nfs/lab/tmp/RtmpFm4njd/file39e3412910800a\n",
      "\n",
      "14:58:22 Searching Annoy index using 1 thread, search_k = 3000\n",
      "\n",
      "14:58:29 Annoy recall = 100%\n",
      "\n",
      "14:58:33 Commencing smooth kNN distance calibration using 1 thread\n",
      " with target n_neighbors = 30\n",
      "\n",
      "14:58:37 Found 3 connected components, \n",
      "falling back to 'spca' initialization with init_sdev = 1\n",
      "\n",
      "14:58:37 Using 'irlba' for PCA\n",
      "\n",
      "14:58:37 PCA: 2 components explained 23.99% variance\n",
      "\n",
      "14:58:37 Scaling init to sdev = 1\n",
      "\n",
      "14:58:37 Commencing optimization for 200 epochs, with 516504 positive edges\n",
      "\n",
      "14:58:49 Optimization finished\n",
      "\n"
     ]
    }
   ],
   "source": [
    "# RNA analysis\n",
    "DefaultAssay(adata_sub) <- 'RNA'\n",
    "suppressWarnings(adata_sub <- SCTransform(adata_sub, verbose=FALSE))\n",
    "adata_sub <- RunPCA(adata_sub)\n",
    "adata_sub <- RunHarmony(adata_sub, group.by.vars='library', assay.use='SCT', reduction.save='harmony.rna')\n",
    "adata_sub <- RunUMAP(adata_sub, dims=1:50, reduction='harmony.rna', reduction.name='umap.rna', reduction.key='rnaUMAP_')\n",
    "\n",
    "# ATAC analysis\n",
    "# We exclude the first dimension as this is typically correlated with sequencing depth\n",
    "DefaultAssay(adata_sub) <- 'ATAC'\n",
    "adata_sub <- RunTFIDF(adata_sub)\n",
    "adata_sub <- FindTopFeatures(adata_sub, min.cutoff='q0', verbose=FALSE)\n",
    "adata_sub <- RunSVD(adata_sub)\n",
    "hm_atac <- HarmonyMatrix(Embeddings(adata_sub, reduction='lsi'), adata_sub$library, do_pca=FALSE)\n",
    "adata_sub[['harmony.atac']] <- CreateDimReducObject(embeddings=hm_atac, key='atac_', assay='ATAC')\n",
    "adata_sub <- RunUMAP(adata_sub, dims=2:50, reduction='harmony.atac', reduction.name='umap.atac', reduction.key='atacUMAP_')"
   ]
  },
  {
   "cell_type": "code",
   "execution_count": 31,
   "metadata": {
    "scrolled": true
   },
   "outputs": [
    {
     "name": "stderr",
     "output_type": "stream",
     "text": [
      "Calculating cell-specific modality weights\n",
      "\n",
      "Finding 20 nearest neighbors for each modality.\n",
      "\n",
      "Calculating kernel bandwidths\n",
      "\n",
      "Finding multimodal neighbors\n",
      "\n",
      "Constructing multimodal KNN graph\n",
      "\n",
      "Constructing multimodal SNN graph\n",
      "\n",
      "14:59:42 UMAP embedding parameters a = 0.9922 b = 1.112\n",
      "\n",
      "14:59:44 Commencing smooth kNN distance calibration using 1 thread\n",
      " with target n_neighbors = 20\n",
      "\n",
      "14:59:49 Initializing from normalized Laplacian + noise (using irlba)\n",
      "\n",
      "15:00:12 Commencing optimization for 200 epochs, with 355834 positive edges\n",
      "\n",
      "15:00:23 Optimization finished\n",
      "\n"
     ]
    }
   ],
   "source": [
    "# Combining Modalities\n",
    "adata_sub <- FindMultiModalNeighbors(adata_sub, reduction.list=list('harmony.rna', 'harmony.atac'), dims.list=list(1:50, 2:50))\n",
    "adata_sub <- RunUMAP(adata_sub, nn.name='weighted.nn', reduction.name='umap.wnn', reduction.key='wnnUMAP_')\n",
    "adata_sub <- FindClusters(adata_sub, graph.name='wsnn', algorithm=4,  resolution = 0.25, verbose=FALSE, method = 'igraph')\n",
    "\n",
    "adata_sub$log_nCount_ATAC=log(adata_sub$nCount_ATAC)\n",
    "adata_sub$log_nCount_SCT=log(adata_sub$nCount_SCT)\n",
    "adata_sub$log_nFeature_ATAC=log(adata_sub$nFeature_ATAC)\n",
    "adata_sub$log_nFeature_SCT=log(adata_sub$nFeature_SCT)"
   ]
  },
  {
   "cell_type": "markdown",
   "metadata": {},
   "source": [
    "## Visualize clustering"
   ]
  },
  {
   "cell_type": "code",
   "execution_count": 82,
   "metadata": {
    "scrolled": true
   },
   "outputs": [],
   "source": [
    "# Prints out the UMAP after removing Scrublet doublets and reclustering\n",
    "options(repr.plot.width=18, repr.plot.height=6)\n",
    "p1 <- DimPlot(adata_sub, reduction='umap.rna', group.by='seurat_clusters', label=TRUE, label.size=6, repel=TRUE) + ggtitle('RNA')\n",
    "p1 <- p1 + xlab('UMAP 1') + ylab('UMAP 2') + ggtitle('RNA only')\n",
    "p2 <- DimPlot(adata_sub, reduction='umap.atac', group.by='seurat_clusters', label=TRUE, label.size=6, repel=TRUE) + ggtitle('ATAC')\n",
    "p2 <- p2 + xlab('UMAP 1') + ylab('UMAP 2') + ggtitle('ATAC only')\n",
    "p3 <- DimPlot(adata_sub, reduction='umap.wnn', group.by='seurat_clusters', label=TRUE, label.size=6, repel=TRUE) + ggtitle('WNN')\n",
    "p3 <- p3 + xlab('UMAP 1') + ylab('UMAP 2') + ggtitle('Combined')\n",
    "# p1 + p2 + p3 & NoLegend() & theme(plot.title=element_text(hjust=0.5))"
   ]
  },
  {
   "cell_type": "code",
   "execution_count": 83,
   "metadata": {
    "scrolled": false
   },
   "outputs": [],
   "source": [
    "#p1 is the UMAP split by genotype, p2 is a bar plot showing the proportion of genotype per seurat cluster\n",
    "options(repr.plot.width=27, repr.plot.height=15)\n",
    "p1 <- DimPlot(adata_sub, reduction='umap.rna', group.by='Genotype', split.by='Genotype', label=FALSE, label.size=6, repel=TRUE)\n",
    "adata_sub$value <- 1\n",
    "p2 <- ggplot(adata_sub[[]], aes(fill=library, y=value, x=seurat_clusters)) + geom_bar(position=position_fill(reverse=TRUE), stat='identity') + xlab('') + ylab('percentage') + theme_light()\n",
    "# p1 / p2"
   ]
  },
  {
   "cell_type": "code",
   "execution_count": 84,
   "metadata": {},
   "outputs": [],
   "source": [
    "# p1 is a Feature Plot showing different features on the combined UMAP\n",
    "options(repr.plot.width=20, repr.plot.height=5)\n",
    "p1 <- FeaturePlot(adata_sub, reduction='umap.rna', features=c('log_nCount_ATAC','log_nFeature_ATAC','log_nCount_SCT','log_nFeature_SCT'), \n",
    "                  cols=c('lightgrey', 'red'), ncol=4) + xlab('UMAP 1') + ylab('UMAP 2')\n",
    "# p1 & theme(plot.title=element_text(hjust=0.5))"
   ]
  },
  {
   "cell_type": "code",
   "execution_count": 85,
   "metadata": {
    "scrolled": true
   },
   "outputs": [],
   "source": [
    "# Figure prints out violin pltos showing different features grouped by seurat clusters\n",
    "options(repr.plot.width=24, repr.plot.height=16)\n",
    "p1 <- VlnPlot(adata_sub, features='nCount_SCT', group.by='seurat_clusters', pt.size=0, log=TRUE) + geom_boxplot(width=.6, fill='white', alpha=.6, pt.size=0) + geom_hline(yintercept=median(adata_sub$nCount_SCT), linetype='dashed', lw=2) + \n",
    "  theme(plot.title = element_text(size = 25), axis.text = element_text(size=20))\n",
    "p2 <- VlnPlot(adata_sub, features='nFeature_SCT', group.by='seurat_clusters', pt.size=0, log=TRUE) + geom_boxplot(width=.6, fill='white', alpha=.6, pt.size=0) + geom_hline(yintercept=median(adata_sub$nFeature_SCT), linetype='dashed', lw=2) + \n",
    "  theme(plot.title = element_text(size = 25), axis.text = element_text(size=20))\n",
    "p3 <- VlnPlot(adata_sub, features='nCount_ATAC', group.by='seurat_clusters', pt.size=0, log=TRUE) + geom_boxplot(width=.6, fill='white', alpha=.6, pt.size=0) + geom_hline(yintercept=median(adata_sub$nCount_ATAC), linetype='dashed', lw=2) + \n",
    "  theme(plot.title = element_text(size = 25), axis.text = element_text(size=20))\n",
    "p4 <- VlnPlot(adata_sub, features='nFeature_ATAC', group.by='seurat_clusters', pt.size=0, log=TRUE) + geom_boxplot(width=.6, fill='white', alpha=.6, pt.size=0) + geom_hline(yintercept=median(adata_sub$nFeature_ATAC), linetype='dashed', lw=2) + \n",
    "  theme(plot.title = element_text(size = 25), axis.text = element_text(size=20))\n",
    "p5 <- VlnPlot(adata_sub, features='nCount_RNA', group.by='seurat_clusters', pt.size=0, log=TRUE) + geom_boxplot(width=.6, fill='white', alpha=.6, pt.size=0) + geom_hline(yintercept=median(adata_sub$nCount_SCT), linetype='dashed', lw=2) + \n",
    "  theme(plot.title = element_text(size = 25), axis.text = element_text(size=20))\n",
    "p6 <- VlnPlot(adata_sub, features='nFeature_RNA', group.by='seurat_clusters', pt.size=0, log=TRUE) + geom_boxplot(width=.6, fill='white', alpha=.6, pt.size=0) + geom_hline(yintercept=median(adata_sub$nFeature_SCT), linetype='dashed', lw=2) + \n",
    "  theme(plot.title = element_text(size = 25), axis.text = element_text(size=20))\n",
    "figure <- ggarrange(p1, p3, p5, p2, p4, p6, ncol = 3, nrow = 2,\n",
    "                    common.legend = TRUE,legend=\"none\")\n",
    "# figure"
   ]
  },
  {
   "cell_type": "code",
   "execution_count": 96,
   "metadata": {
    "scrolled": true
   },
   "outputs": [],
   "source": [
    "# read in marker genes list from a file\n",
    "markers.fp2 <- '/nfs/lab/projects/mouse_pdac/references/mouse_pdac_CAF_markers.txt'\n",
    "marker.genes <- scan(markers.fp2,what=\"\",sep=\"\\n\")\n",
    "\n",
    "# p1 prints out a Dot Plot showing the strength of marker genes for each seurat cluster\n",
    "options(repr.plot.width=20, repr.plot.height=5)\n",
    "p1 <- DotPlot(adata_sub, assay='SCT', features=marker.genes, cluster.idents=TRUE) \n",
    "p1 <- p1 + theme(axis.text.x=element_text(angle=45, hjust=1)) + xlab('') + ylab('')\n",
    "# p1"
   ]
  },
  {
   "cell_type": "markdown",
   "metadata": {},
   "source": [
    "## Identifying Clusters"
   ]
  },
  {
   "cell_type": "code",
   "execution_count": 88,
   "metadata": {
    "scrolled": true
   },
   "outputs": [],
   "source": [
    "### Make a list of cell type assignments, one per cluster (aka cluster 1 = beta_1, cluster 2 = alpha_1, etc)\n",
    "major_celltypes = c('Neutrophils','Ductal cells','T and NK cells', 'Ductal cells','Ductal cells/EMT-like cells',\n",
    "                    'Fibroblast', 'B cells','B cells','Macrophage/Neutrophils','Ductal cells',\n",
    "                    'B cells','B cells', 'Endothelial/Perivascular','Acinar cells','Dendritic cells') \n",
    "\n",
    "num_clusters <- length(unique(adata_sub$seurat_clusters))\n",
    "celltype_key = seq(1:num_clusters)\n",
    "names(celltype_key) = major_celltypes\n",
    "\n",
    "### Map the cell type assignments onto the barcodes vector using the cluster #s \n",
    "assigned_celltypes1 = as.vector(mapvalues(adata_sub[[]]$seurat_clusters, from=seq(1:num_clusters), \n",
    "         to = names(celltype_key), warn_missing = TRUE))\n",
    "\n",
    "names(assigned_celltypes1) = Cells(adata_sub)\n",
    "\n",
    "### Add cell types into Seurat object metadata\n",
    "adata_sub$assigned_celltype = assigned_celltypes1"
   ]
  },
  {
   "cell_type": "code",
   "execution_count": 89,
   "metadata": {},
   "outputs": [],
   "source": [
    "# This makes a UMAP of the intermediate step with initial celltype annotations before subclustering \n",
    "options(repr.plot.width=18, repr.plot.height=6)\n",
    "p1 <- DimPlot(adata_sub, reduction='umap.rna', group.by='assigned_celltype', label=TRUE, label.size=6, repel=TRUE) + ggtitle('RNA')\n",
    "p1 <- p1 + xlab('UMAP 1') + ylab('UMAP 2') + ggtitle('RNA only')\n",
    "p2 <- DimPlot(adata_sub, reduction='umap.atac', group.by='assigned_celltype', label=TRUE, label.size=6, repel=TRUE) + ggtitle('ATAC')\n",
    "p2 <- p2 + xlab('UMAP 1') + ylab('UMAP 2') + ggtitle('ATAC only')\n",
    "p3 <- DimPlot(adata_sub, reduction='umap.wnn', group.by='assigned_celltype', label=TRUE, label.size=6, repel=TRUE) + ggtitle('WNN')\n",
    "p3 <- p3 + xlab('UMAP 1') + ylab('UMAP 2') + ggtitle('Combined')\n",
    "# p1 + p2 + p3 & NoLegend() & theme(plot.title=element_text(hjust=0.5))"
   ]
  },
  {
   "cell_type": "markdown",
   "metadata": {},
   "source": [
    "# Subcluster"
   ]
  },
  {
   "cell_type": "code",
   "execution_count": 46,
   "metadata": {
    "scrolled": true
   },
   "outputs": [],
   "source": [
    "### Map the cell type assignments onto the barcodes vector using the cluster #s \n",
    "num_clusters <- length(unique(adata_sub$seurat_clusters))\n",
    "\n",
    "assigned_celltypes1 = as.vector(mapvalues(adata_sub[[]]$seurat_clusters, from=seq(1:num_clusters), \n",
    "         to = names(celltype_key), warn_missing = TRUE))\n",
    "\n",
    "names(assigned_celltypes1) = Cells(adata_sub)\n",
    "\n",
    "### Add cell types into Seurat object metadata\n",
    "adata_sub$assigned_celltypes1 = assigned_celltypes1"
   ]
  },
  {
   "cell_type": "code",
   "execution_count": 47,
   "metadata": {},
   "outputs": [],
   "source": [
    "### make new list of cell type assignments -- run this ONCE\n",
    "assigned_celltypes1 <- copy(assigned_celltypes1)"
   ]
  },
  {
   "cell_type": "code",
   "execution_count": 98,
   "metadata": {
    "scrolled": true
   },
   "outputs": [
    {
     "name": "stderr",
     "output_type": "stream",
     "text": [
      "1 singletons identified. 5 final clusters.\n",
      "\n"
     ]
    },
    {
     "data": {
      "text/plain": [
       "\n",
       "6_1 6_2 6_3 6_4 6_5 \n",
       "233 152 146  99  42 "
      ]
     },
     "metadata": {},
     "output_type": "display_data"
    }
   ],
   "source": [
    "### Subcluster -- run for each cluster you want to subcluster\n",
    "# set the cluster number you want to subcluster\n",
    "sc.num <- 6\n",
    "\n",
    "#find sub clusters and make a subset object\n",
    "adata_sub <- FindSubCluster(adata_sub, cluster=sc.num, algorithm=4, resolution=.5, graph.name='wsnn')\n",
    "adata.subset <- subset(adata_sub, subset=seurat_clusters==sc.num)\n",
    "\n",
    "#print the # cells in each subcluster\n",
    "cluster_samples <- adata_sub[[]][adata_sub[[]]$seurat_clusters==sc.num,]\n",
    "table(cluster_samples$sub.cluster)\n",
    "\n",
    "#plot UMAP of subclusters\n",
    "options(repr.plot.width=6, repr.plot.height=6)\n",
    "p1 <- DimPlot(adata.subset, reduction='umap.wnn', group.by='sub.cluster', label=TRUE, label.size=6, repel=TRUE)\n",
    "# p1\n",
    "\n",
    "#plot metrics boxplots\n",
    "options(repr.plot.width=24, repr.plot.height=16)\n",
    "p1 <- VlnPlot(adata_sub, features='nCount_SCT', group.by='sub.cluster', log=TRUE, pt.size=0) + geom_boxplot(width=.6, fill='white', alpha=.6) + geom_hline(yintercept=median(adata_sub$nCount_SCT), linetype='dashed') + \n",
    "  theme(plot.title = element_text(size = 25), axis.text = element_text(size=20))\n",
    "p2 <- VlnPlot(adata_sub, features='nFeature_SCT', group.by='sub.cluster', log=TRUE, pt.size=0) + geom_boxplot(width=.6, fill='white', alpha=.6) + geom_hline(yintercept=median(adata_sub$nFeature_SCT), linetype='dashed') + \n",
    "  theme(plot.title = element_text(size = 25), axis.text = element_text(size=20))\n",
    "p3 <- VlnPlot(adata_sub, features='nCount_ATAC', group.by='sub.cluster', log=TRUE, pt.size=0) + geom_boxplot(width=.6, fill='white', alpha=.6) + geom_hline(yintercept=median(adata_sub$nCount_ATAC), linetype='dashed') + \n",
    "  theme(plot.title = element_text(size = 25), axis.text = element_text(size=20))\n",
    "p4 <- VlnPlot(adata_sub, features='nFeature_ATAC', group.by='sub.cluster', log=TRUE, pt.size=0) + geom_boxplot(width=.6, fill='white', alpha=.6) + geom_hline(yintercept=median(adata_sub$nFeature_ATAC), linetype='dashed') + \n",
    "  theme(plot.title = element_text(size = 25), axis.text = element_text(size=20))\n",
    "p5 <- VlnPlot(adata_sub, features='nCount_RNA', group.by='sub.cluster', log=TRUE, pt.size=0) + geom_boxplot(width=.6, fill='white', alpha=.6) + geom_hline(yintercept=median(adata_sub$nCount_SCT), linetype='dashed') + \n",
    "  theme(plot.title = element_text(size = 25), axis.text = element_text(size=20))\n",
    "p6 <- VlnPlot(adata_sub, features='nFeature_RNA', group.by='sub.cluster', log=TRUE, pt.size=0) + geom_boxplot(width=.6, fill='white', alpha=.6) + geom_hline(yintercept=median(adata_sub$nFeature_SCT), linetype='dashed') + \n",
    "  theme(plot.title = element_text(size = 25), axis.text = element_text(size=20))\n",
    "figure <- ggarrange(p1, p3, p5, p2, p4, p6, ncol = 3, nrow = 2,\n",
    "                    common.legend = TRUE,legend=\"none\")\n",
    "# figure\n",
    "\n",
    "#plot the sample distribution in subclusters\n",
    "options(repr.plot.width=25, repr.plot.height=5)\n",
    "adata_sub$value <- 1\n",
    "p2 <- ggplot(adata_sub[[]], aes(fill=library, y=value, x=sub.cluster)) + \n",
    "geom_bar(position=position_fill(reverse=TRUE), stat='identity') + xlab('') + \n",
    "ylab('Percentage') + NoLegend() +\n",
    "theme(plot.title=element_text(hjust=0.5,size=25),\n",
    "      axis.text=element_text(size=20),axis.ticks=element_blank())\n",
    "# p2\n",
    "\n",
    "# plot marker gene dotplot (replace marker.genes with your list)\n",
    "markers.fp2 <- '/nfs/lab/projects/mouse_pdac/references/mouse_pdac_markers_short.txt'\n",
    "marker.genes <- scan(markers.fp2,what=\"\",sep=\"\\n\")\n",
    "options(repr.plot.width=25, repr.plot.height=6)\n",
    "p1 <- DotPlot(adata.subset, assay='SCT', group.by='sub.cluster', features=marker.genes, cluster.idents=TRUE) \n",
    "p1 <- p1 + theme(axis.text.x=element_text(angle=45, hjust=1)) + xlab('') + ylab('')\n",
    "# p1"
   ]
  },
  {
   "cell_type": "code",
   "execution_count": 143,
   "metadata": {},
   "outputs": [],
   "source": [
    "#reassign celltypes for subclusters (if marker genes separate better) -- must do this for your cluster of interest before any subcluster another cluster\n",
    "assigned_celltypes1[row.names(adata[[]])[adata[[]]$sub.cluster == '1_1']] = 'Myeloid' #example\n",
    "assigned_celltypes1[row.names(adata[[]])[adata[[]]$sub.cluster == '1_2']] = 'Myeloid' \n",
    "assigned_celltypes1[row.names(adata[[]])[adata[[]]$sub.cluster == '1_3']] = 'Myeloid' "
   ]
  },
  {
   "cell_type": "code",
   "execution_count": 48,
   "metadata": {},
   "outputs": [],
   "source": [
    "### After subclustering everything - run once\n",
    "adata_sub$Fibroblasts <- assigned_celltypes1"
   ]
  },
  {
   "cell_type": "markdown",
   "metadata": {},
   "source": [
    "## Assigning celltypes to clusters"
   ]
  },
  {
   "cell_type": "code",
   "execution_count": 52,
   "metadata": {},
   "outputs": [],
   "source": [
    "#setting color palette\n",
    "celltypes <- unique(adata_sub$Fibroblasts)\n",
    "\n",
    "celltype_colors <- c('Acinar cells'='#251351', 'B cells'='#3B52A5', 'Dendritic cells'='#5AB1BB', \n",
    "                     'Ductal cells'='#618040', 'EMT-like cells'='#AFE079', 'Endothelial cells'='#FF773D',\n",
    "                     'Macrophages'='#CAA9DE', 'Neutrophils'='#D84727',\n",
    "                     'Perivascular cells'='#EDA2C0', 'T and NK cells'='#E3C15D', 'myCAF'='#710CAB',\n",
    "                     'apCAF'='#4FF0E0', 'iCAF'='#C2C0C0')"
   ]
  },
  {
   "cell_type": "code",
   "execution_count": 91,
   "metadata": {},
   "outputs": [],
   "source": [
    "# Prints out final UMAP with finalized celltypes and assigned colors\n",
    "options(repr.plot.width=18, repr.plot.height=6)\n",
    "p1 <- DimPlot(adata_sub, reduction='umap.rna', group.by='Fibroblasts', label=FALSE, label.size=6, repel=TRUE, cols=celltype_colors) + ggtitle('RNA')\n",
    "p1 <- p1 + xlab('UMAP 1') + ylab('UMAP 2') + ggtitle('RNA only') + theme (legend.position=\"none\")\n",
    "p2 <- DimPlot(adata_sub, reduction='umap.atac', group.by='Fibroblasts', label=FALSE, label.size=6, repel=TRUE, cols=celltype_colors) + ggtitle('ATAC')\n",
    "p2 <- p2 + xlab('UMAP 1') + ylab('UMAP 2') + ggtitle('ATAC only') + theme(legend.position=\"none\")\n",
    "p3 <- DimPlot(adata_sub, reduction='umap.wnn', group.by='Fibroblasts', label=FALSE, label.size=6, repel=TRUE, cols=celltype_colors) + ggtitle('WNN')\n",
    "p3 <- p3 + xlab('UMAP 1') + ylab('UMAP 2') + ggtitle('Combined')\n",
    "# p1 + p2 + p3 & theme(plot.title=element_text(hjust=0.5))"
   ]
  },
  {
   "cell_type": "code",
   "execution_count": 92,
   "metadata": {},
   "outputs": [],
   "source": [
    " # Ordered marker gene dot plot for bulk celltypes\n",
    "ordered_celltypes <- names(celltype_colors)\n",
    "marker.genes2 <- c('Il7r', # T and NK cells\n",
    "                   'Flt1', # Perivascular cells\n",
    "                   'Csf1r', # Myeloid\n",
    "                   'Srgn', # Neutrophils\n",
    "                   'Arg1', # Macrophage\n",
    "                   'Col5a1', # Fibroblasts\n",
    "                   'Egfl7', # Endothelial cells\n",
    "                   'Hmga2', # EMT-like cells\n",
    "                   'Prom1', # Ductal cells\n",
    "                   'Cacnb3', # Dendritic cells\n",
    "                   'Bank1', # B cells\n",
    "                   'Ctrb1') # Acinar cells)\n",
    "                   \n",
    "\n",
    "# p1 prints out a Dot Plot of the ordered marker genes for bulk celltypes\n",
    "options(repr.plot.width=12, repr.plot.height=7)\n",
    "p1 <- DotPlot(adata_sub, assay='SCT', features=marker.genes2, \n",
    "              cluster.idents=TRUE, group.by = 'Fibroblasts') \n",
    "p1 <- p1 + theme(axis.text.x=element_text(angle=45, hjust=1, size=16),\n",
    "                 axis.text.y=element_text(size=16),\n",
    "                 legend.text=element_text(size=14),\n",
    "                 legend.title=element_text(size=16)) + xlab('') + ylab('')\n",
    "p1$data$id <- factor(x = p1$data$id, levels=rev(ordered_celltypes))\n",
    "# p1"
   ]
  },
  {
   "cell_type": "markdown",
   "metadata": {},
   "source": [
    "# CAF subpop plots"
   ]
  },
  {
   "cell_type": "code",
   "execution_count": 60,
   "metadata": {},
   "outputs": [],
   "source": [
    "adata_caf <- subset(adata_sub, subset = assigned_celltypes1 == 'Fibroblasts')"
   ]
  },
  {
   "cell_type": "code",
   "execution_count": 93,
   "metadata": {},
   "outputs": [],
   "source": [
    "# Ordered marker gene dot plot for CAF subpopulations\n",
    "marker.genes2 <- c('Svep1', # iCAF\n",
    "                   'Plpp3',\n",
    "                   'Scara5',\n",
    "                   'Ptgis', # apCAF\n",
    "                   'Fth1',\n",
    "                   'Cxadr',\n",
    "                   'Col12a1', # myCAF\n",
    "                   'Tnc',\n",
    "                   'Col8a1')\n",
    "\n",
    "# p1 prints out a Dot Plot of the ordered marker genes for CAF subpops\n",
    "options(repr.plot.width=8, repr.plot.height=4)\n",
    "p1 <- DotPlot(adata_caf, assay='SCT', features=marker.genes2, \n",
    "              cluster.idents=TRUE, group.by = 'Fibroblasts') \n",
    "p1 <- p1 + theme(axis.text.x=element_text(angle=45, hjust=1, size=16),\n",
    "                 axis.text.y=element_text(size=16),\n",
    "                 legend.text=element_text(size=14),\n",
    "                 legend.title=element_text(size=16)) + xlab('') + ylab('')\n",
    "p1$data$id <- factor(x = p1$data$id, levels=rev(ordered_celltypes))\n",
    "# p1"
   ]
  },
  {
   "cell_type": "code",
   "execution_count": 99,
   "metadata": {},
   "outputs": [],
   "source": [
    "# QC Violin Plots -- figure prints out a violin plot showing different features\n",
    "options(repr.plot.width=32, repr.plot.height=8)\n",
    "p1 <- VlnPlot(adata_caf, features='nFeature_RNA', group.by='Fibroblasts', pt.size=0, col=celltype_colors, log=TRUE) + geom_boxplot(width=.6, fill='white', alpha=.6, pt.size=0) + geom_hline(yintercept=median(adata_caf$nFeature_SCT), linetype='dashed', lw=2) + \n",
    "  theme(plot.title = element_text(size = 25), axis.text = element_text(size=20), axis.title.x=element_blank())\n",
    "p2 <- VlnPlot(adata_caf, features='nCount_ATAC', group.by='Fibroblasts', pt.size=0, col=celltype_colors, log=TRUE) + geom_boxplot(width=.6, fill='white', alpha=.6, pt.size=0) + geom_hline(yintercept=median(adata_caf$nCount_ATAC), linetype='dashed', lw=2) + \n",
    "  theme(plot.title = element_text(size = 25), axis.text = element_text(size=20), axis.title.x=element_blank())\n",
    "p3 <- VlnPlot(adata_caf, features='percent.mt', group.by='Fibroblasts', pt.size=0, col=celltype_colors, log=FALSE) + geom_boxplot(width=.6, fill='white', alpha=.6, pt.size=0) + geom_hline(yintercept=median(adata_caf$percent.mt), linetype='dashed', lw=2) + \n",
    "  theme(plot.title = element_text(size = 25), axis.text = element_text(size=20), axis.title.x=element_blank())\n",
    "p4 <- VlnPlot(adata_caf, features='atac_mitochondrial_reads', group.by='Fibroblasts', pt.size=0, col=celltype_colors, log=TRUE) + geom_boxplot(width=.6, fill='white', alpha=.6, pt.size=0) + geom_hline(yintercept=median(adata_caf$atac_mitochondrial_reads), linetype='dashed', lw=2) + \n",
    "  theme(plot.title = element_text(size = 25), axis.text = element_text(size=20), axis.title.x=element_blank())\n",
    "figure <- ggarrange(p1, p2, p3, p4, ncol = 4, nrow = 1,\n",
    "                    common.legend = TRUE,legend=\"none\")\n",
    "# figure"
   ]
  },
  {
   "cell_type": "code",
   "execution_count": 100,
   "metadata": {},
   "outputs": [],
   "source": [
    "# Proportion of celltype for each sample\n",
    "options(repr.plot.width=8, repr.plot.height=4)\n",
    "theme_set(\n",
    "    theme_classic())\n",
    "p2 <- ggplot(adata_caf[[]], aes(fill=Fibroblasts, y=value, x=Genotype)) + \n",
    "        geom_bar(position=position_fill(reverse=TRUE), stat='identity') + \n",
    "        scale_fill_manual(values=celltype_colors) + scale_y_continuous(limits=c(0,1)) +\n",
    "        ylab('Cell Type Composition')  + labs(fill=\"Celltypes\") +\n",
    "        theme(plot.title=element_text(hjust=0.5,size=25),\n",
    "              axis.title=element_text(size=20),\n",
    "              axis.text.y=element_text(size=15, hjust=1.25),\n",
    "              axis.text.x=element_text(size=15, hjust=1.25),\n",
    "              axis.ticks=element_blank())\n",
    "p2$data$Fibroblasts <- factor(x = p2$data$Fibroblasts, levels = celltypes)\n",
    "# p2 # A bar plot showing the proportion of celltype composition for caf subpops categorized by genotype"
   ]
  },
  {
   "cell_type": "markdown",
   "metadata": {},
   "source": [
    "# Add in disease info and make more plots!"
   ]
  },
  {
   "cell_type": "code",
   "execution_count": 72,
   "metadata": {
    "scrolled": false
   },
   "outputs": [
    {
     "name": "stderr",
     "output_type": "stream",
     "text": [
      "The following `from` values were not present in `x`: KA_41_1_2_KA_39_1_2, KA_42_1_2_KA_40_1_2\n",
      "\n"
     ]
    }
   ],
   "source": [
    "classifications <- c('AKPC','KPC')\n",
    "class_key <- str_split_fixed(samples, '_h', 2)[,1]\n",
    "names(class_key) <- classifications\n",
    "\n",
    "#add classification status into object metadat\n",
    "classification = as.vector(mapvalues(adata_sub[[]]$library, from=class_key, \n",
    "                                     to = names(class_key), warn_missing = TRUE))\n",
    "\n",
    "# Add cell types into Seurat object metadata\n",
    "adata_sub$classification = classification"
   ]
  },
  {
   "cell_type": "code",
   "execution_count": 73,
   "metadata": {},
   "outputs": [],
   "source": [
    "class_colors <- c('AKPC'='#6DB5CF','KPC'='#7FCE6E')"
   ]
  },
  {
   "cell_type": "code",
   "execution_count": 101,
   "metadata": {},
   "outputs": [],
   "source": [
    "# UMAP colored by classification\n",
    "options(repr.plot.width=7.5, repr.plot.height=6)\n",
    "p1 <- DimPlot(adata_caf, reduction='umap.wnn', group.by='Genotype', label=F, label.size=6, \n",
    "              repel=TRUE, raster=FALSE, cols=class_colors, pt.size=0.01)\n",
    "p1 <- p1 + xlab('UMAP 1') + ylab('UMAP 2') + ggtitle('Combined') +\n",
    "      theme(legend.text=element_text(size=18),legend.title=element_text(size=18),\n",
    "            plot.title=element_blank(), axis.title=element_blank(),\n",
    "            axis.text=element_blank(),axis.ticks=element_blank(),\n",
    "            axis.line=element_blank())\n",
    "# p1 # a UMAP of the CAF subpops colored by classification of genotype"
   ]
  },
  {
   "cell_type": "code",
   "execution_count": 102,
   "metadata": {},
   "outputs": [],
   "source": [
    "# Bar Plot colored by classification\n",
    "options(repr.plot.width=12, repr.plot.height=6)\n",
    "theme_set(theme_classic())\n",
    "p1 <- ggplot(adata_sub[[]], aes(fill=Genotype, y=value, x=Fibroblasts)) + \n",
    "        geom_bar(position=position_fill(reverse=TRUE), stat='identity') + xlab('') + \n",
    "        ylab('Sample Classification') + scale_fill_manual(values=class_colors) + \n",
    "        theme(plot.title=element_text(hjust=0.5,size=25),\n",
    "              axis.title=element_text(size=20),\n",
    "              axis.text.y=element_text(size=15, hjust=1.25),\n",
    "              axis.text.x=element_text(size=20, angle=45, hjust=0.95),\n",
    "              axis.ticks=element_blank(),\n",
    "              legend.text=element_text(size=18), \n",
    "              legend.title=element_blank())\n",
    "# p1 # A bar plot of proportion of genotype classification for each celltype"
   ]
  },
  {
   "cell_type": "markdown",
   "metadata": {},
   "source": [
    "# Save Seurat object to an RDS"
   ]
  },
  {
   "cell_type": "code",
   "execution_count": 77,
   "metadata": {},
   "outputs": [],
   "source": [
    "# Change file path here\n",
    "outdir <- \"/nfs/lab/ylee/mouse_pdac\"\n",
    "rds_fp2 <- file.path(outdir,'230718_2sample_merged_with_celltypes_and_CAFs.rds')\n",
    "saveRDS(adata_sub, file = rds_fp2)"
   ]
  },
  {
   "cell_type": "code",
   "execution_count": 103,
   "metadata": {
    "scrolled": true
   },
   "outputs": [],
   "source": [
    "# sessionInfo() # print to see sessionInfo of this notebook"
   ]
  }
 ],
 "metadata": {
  "kernelspec": {
   "display_name": "R 4.2",
   "language": "R",
   "name": "ir42"
  },
  "language_info": {
   "codemirror_mode": "r",
   "file_extension": ".r",
   "mimetype": "text/x-r-source",
   "name": "R",
   "pygments_lexer": "r",
   "version": "4.2.2"
  }
 },
 "nbformat": 4,
 "nbformat_minor": 4
}
